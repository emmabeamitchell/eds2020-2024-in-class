{
 "cells": [
  {
   "cell_type": "markdown",
   "id": "37e534bd-8af5-4e16-a617-3ad85cc282b8",
   "metadata": {},
   "source": [
    "# Python Review\n",
    "\n",
    "short review about some core concepts in Python exemplified by objects in the Numpy library\n",
    "\n",
    "Goals:\n",
    "\n",
    "- recall basic Python vocabulary\n",
    "- practice markdown syntax\n",
    "\n",
    "## Libraries and packages\n",
    "\n",
    "**library:** is a collection of code that we can use to perform specific tasks in our programs. It can be a single file or multiple files\n",
    "\n",
    "**NumPy:** \n",
    "\n",
    "- core library for numerical computing in Python\n",
    "- many of libraries use NumPy arrats as their building blocks\n",
    "- computations on NumPy objects are optimized for speed and memory usage\n",
    "\n",
    "Let's import NumPy with its **standard abbreviation** np:"
   ]
  },
  {
   "cell_type": "code",
   "execution_count": 1,
   "id": "9111cb42-94b7-49ed-8249-357e063385ba",
   "metadata": {
    "tags": []
   },
   "outputs": [],
   "source": [
    "import numpy as np"
   ]
  },
  {
   "cell_type": "markdown",
   "id": "272a9537-28bb-4af9-8c81-0fcd1e13f71b",
   "metadata": {},
   "source": [
    "## Variables\n",
    "\n",
    "**variable:** a name we assign to a particular objecy in Python\n",
    "\n",
    "Example:"
   ]
  },
  {
   "cell_type": "code",
   "execution_count": 31,
   "id": "fc2ac4f9-bd7d-48e5-bad6-471d5547f0ed",
   "metadata": {
    "tags": []
   },
   "outputs": [],
   "source": [
    "# Assign a small array to variable a\n",
    "a = np.array([ [1,1,2], [3,5,8]])"
   ]
  },
  {
   "cell_type": "markdown",
   "id": "c05050a2-2d05-4b0f-bfe9-7ee605e36d5a",
   "metadata": {},
   "source": [
    "To view a variable's value from our Jupyter notebook:"
   ]
  },
  {
   "cell_type": "code",
   "execution_count": 3,
   "id": "510258d8-ed20-4113-9299-d82cc8563ae9",
   "metadata": {
    "tags": []
   },
   "outputs": [
    {
     "data": {
      "text/plain": [
       "array([[1, 1, 2],\n",
       "       [3, 5, 8]])"
      ]
     },
     "execution_count": 3,
     "metadata": {},
     "output_type": "execute_result"
    }
   ],
   "source": [
    "# Run a cell with variable name to show value\n",
    "a"
   ]
  },
  {
   "cell_type": "code",
   "execution_count": 4,
   "id": "eef415a9-20a0-4f1d-9268-1e7c667f4746",
   "metadata": {
    "tags": []
   },
   "outputs": [
    {
     "name": "stdout",
     "output_type": "stream",
     "text": [
      "[[1 1 2]\n",
      " [3 5 8]]\n"
     ]
    }
   ],
   "source": [
    "# Use `print` function to print the value\n",
    "print(a)"
   ]
  },
  {
   "cell_type": "markdown",
   "id": "727381da-d89f-402f-a79c-eed98fb3c67f",
   "metadata": {},
   "source": [
    "## Convention: Use `snake_case` for naming variables.\n",
    "\n",
    "This is the convention we will use in the course. Why?  `my-variable` or `MyVariable` or `myVariable`, PEP 8 - Style guide for Python Code recommends snake_case. \n",
    "\n",
    "**Remember that variable names should both be descriptive and concise!**\n",
    "\n",
    "\n",
    "## Objects\n",
    "\n",
    "**Object:** (informally speaking) is a bundle of *properties* and *actions* about something specific.\n",
    "\n",
    "Example:\n",
    "\n",
    "Object: data frame\n",
    "Properties: number  of rows, names of columns, and date created\n",
    "Actions: selecting a specific row or adding a new column\n",
    "\n",
    "A variable is the name we give a specific object, and the same object can be referenced by different variables.\n",
    "\n",
    "In practice, we can often use the word variable and object interchangeably. \n",
    "\n",
    "## Types\n",
    "\n",
    "Every object in Python has a **type**, the type tells us what kind of object we have.\n",
    "We can also call the type of an object, the **class** of an object. So class and object both mean what kind of object we have."
   ]
  },
  {
   "cell_type": "code",
   "execution_count": 5,
   "id": "2b9e7561-be8c-43d4-b15f-3028331c1a8c",
   "metadata": {
    "tags": []
   },
   "outputs": [
    {
     "name": "stdout",
     "output_type": "stream",
     "text": [
      "[[1 1 2]\n",
      " [3 5 8]]\n"
     ]
    }
   ],
   "source": [
    "print(a)"
   ]
  },
  {
   "cell_type": "code",
   "execution_count": 6,
   "id": "69adb883-400b-4775-8027-226ae94e1d6c",
   "metadata": {
    "tags": []
   },
   "outputs": [
    {
     "data": {
      "text/plain": [
       "numpy.ndarray"
      ]
     },
     "execution_count": 6,
     "metadata": {},
     "output_type": "execute_result"
    }
   ],
   "source": [
    "# See the type/class of a variable/object by using the `type` function\n",
    "type(a)"
   ]
  },
  {
   "cell_type": "markdown",
   "id": "7c6ec4ef-f59a-4762-95f3-30f988b8964e",
   "metadata": {},
   "source": [
    "The numpy.array is the core object/data type of the NumPy package."
   ]
  },
  {
   "cell_type": "code",
   "execution_count": 7,
   "id": "78c90f2b-46db-40ae-bc4d-c03028f72ec0",
   "metadata": {
    "tags": []
   },
   "outputs": [
    {
     "name": "stdout",
     "output_type": "stream",
     "text": [
      "1\n"
     ]
    },
    {
     "data": {
      "text/plain": [
       "numpy.int64"
      ]
     },
     "execution_count": 7,
     "metadata": {},
     "output_type": "execute_result"
    }
   ],
   "source": [
    "print(a[0,1])\n",
    "type(a[0,0])"
   ]
  },
  {
   "cell_type": "markdown",
   "id": "29028f63-b683-47c2-877e-2307ce078872",
   "metadata": {},
   "source": [
    "`numpy.int64` is not the standard Python integer type `int`\n",
    "\n",
    "`numpy.in64` is a special data type in NumPy telling us that 1 is an integer as a 64-bit number"
   ]
  },
  {
   "cell_type": "markdown",
   "id": "03b387cc-6140-4c05-9d2d-1bc8e583fbce",
   "metadata": {},
   "source": [
    "Check-in: access the value 5 in array `a`"
   ]
  },
  {
   "cell_type": "code",
   "execution_count": 10,
   "id": "4ae0a7e9-f42d-432f-842b-0cc3623add6b",
   "metadata": {
    "tags": []
   },
   "outputs": [
    {
     "data": {
      "text/plain": [
       "5"
      ]
     },
     "execution_count": 10,
     "metadata": {},
     "output_type": "execute_result"
    }
   ],
   "source": [
    "# indexing starts at zero so second row is 1 and second column is 1\n",
    "a[1,1]"
   ]
  },
  {
   "cell_type": "markdown",
   "id": "6f5e0c7a-7cf5-49cc-a15d-2fa1d8cae8c3",
   "metadata": {},
   "source": [
    "## Functions\n",
    "\n",
    "`print` was our first example of a python **function**\n",
    "\n",
    "Functiona take in a set of **argument**, separated by commas, and use those arguments to create an **output**\n",
    "\n",
    "In the course, we'll be using argument and paramter interchangeably. But they do have slightly different meanings\n",
    "\n",
    "We can ask for info about what a function does by execution `?` followed by the function name:"
   ]
  },
  {
   "cell_type": "code",
   "execution_count": 11,
   "id": "10e27395-63aa-479b-8281-b191605659aa",
   "metadata": {
    "tags": []
   },
   "outputs": [
    {
     "data": {
      "text/plain": [
       "\u001b[0;31mDocstring:\u001b[0m\n",
       "print(value, ..., sep=' ', end='\\n', file=sys.stdout, flush=False)\n",
       "\n",
       "Prints the values to a stream, or to sys.stdout by default.\n",
       "Optional keyword arguments:\n",
       "file:  a file-like object (stream); defaults to the current sys.stdout.\n",
       "sep:   string inserted between values, default a space.\n",
       "end:   string appended after the last value, default a newline.\n",
       "flush: whether to forcibly flush the stream.\n",
       "\u001b[0;31mType:\u001b[0m      builtin_function_or_method\n"
      ]
     },
     "metadata": {},
     "output_type": "display_data"
    }
   ],
   "source": [
    "?print"
   ]
  },
  {
   "cell_type": "markdown",
   "id": "1a0ccccd-7fcb-4ea0-8911-0895813ff813",
   "metadata": {},
   "source": [
    "What we obtain is a **docstring**, a special type of comment that is used to document how a function (or a class, or module) works.\n",
    "\n",
    "Notice that there are different types of arguments inside the function's paranthesis.\n",
    "\n",
    "Roughly speaking, a function has two types of arguments:\n",
    "\n",
    "- **non-optional arguments**: argument *you* have to specify for the function to work\n",
    "- **optional arguments**: arguments that are pre-filled with a default value by the function, but you can override them. Optional arguments appear inside the paranthesis () in the form `optional_argument = default_value`\n",
    "\n",
    "Example\n",
    "\n",
    "`end` is a parameter in `print` with default value in a new line\n",
    "\n",
    "We can pass the value `:-)` to this paramter so that it finishes the line with `:-)` instead:\n",
    "\n",
    "print('Change the end paramter', end=':-)')"
   ]
  },
  {
   "cell_type": "markdown",
   "id": "38b10065-a147-467b-b3c2-f29ab101570d",
   "metadata": {},
   "source": [
    "## Attributes and Methods\n",
    "\n",
    "- **attribute**: a property of the object, some piece of information about it (property/info eg. name, age, weight)\n",
    "- **method**: a method is a procedure associated with an object, so it is an action where the main ingredient is the object (action)\n",
    "\n",
    "Example:\n",
    "\n",
    "NumPy arrays have many methods and attributes. For example:\n"
   ]
  },
  {
   "cell_type": "code",
   "execution_count": 12,
   "id": "01c8d914-6e34-4d54-aeed-fc097f5d81cc",
   "metadata": {
    "tags": []
   },
   "outputs": [
    {
     "data": {
      "text/plain": [
       "array([[1, 1, 2],\n",
       "       [3, 5, 8]])"
      ]
     },
     "execution_count": 12,
     "metadata": {},
     "output_type": "execute_result"
    }
   ],
   "source": [
    "a"
   ]
  },
  {
   "cell_type": "code",
   "execution_count": 16,
   "id": "76871fa4-40a2-4515-a3de-411be48cc79a",
   "metadata": {
    "tags": []
   },
   "outputs": [
    {
     "name": "stdout",
     "output_type": "stream",
     "text": [
      "[[1 3]\n",
      " [1 5]\n",
      " [2 8]]\n"
     ]
    }
   ],
   "source": [
    "# T is an example of an attribute, it returns the transpose of array\n",
    "print(a.T)"
   ]
  },
  {
   "cell_type": "code",
   "execution_count": 14,
   "id": "1b3aa29e-7a07-4246-b24f-e62f236f6f4f",
   "metadata": {
    "tags": []
   },
   "outputs": [
    {
     "data": {
      "text/plain": [
       "numpy.ndarray"
      ]
     },
     "execution_count": 14,
     "metadata": {},
     "output_type": "execute_result"
    }
   ],
   "source": [
    "type(a.T)"
   ]
  },
  {
   "cell_type": "code",
   "execution_count": 17,
   "id": "185b125f-3bb0-4c13-bf37-af0a03953e60",
   "metadata": {
    "tags": []
   },
   "outputs": [
    {
     "name": "stdout",
     "output_type": "stream",
     "text": [
      "(2, 3)\n",
      "<class 'tuple'>\n"
     ]
    }
   ],
   "source": [
    "# shape is another attribute that tells us the shape of the array\n",
    "print(a.shape)\n",
    "print(type(a.shape))"
   ]
  },
  {
   "cell_type": "code",
   "execution_count": 18,
   "id": "a13f12b8-065a-4f69-b0b4-b2703b0a0c85",
   "metadata": {
    "tags": []
   },
   "outputs": [
    {
     "name": "stdout",
     "output_type": "stream",
     "text": [
      "dim: 2 | type: <class 'int'>\n"
     ]
    }
   ],
   "source": [
    "# ndim is an attribute holding the number of array dimensions\n",
    "print('dim:', a.ndim, '| type:', type(a.ndim))"
   ]
  },
  {
   "cell_type": "markdown",
   "id": "8fdf9e23-0b5a-4356-8e5f-04f07c821132",
   "metadata": {},
   "source": [
    "Attributes can have many different data types.\n",
    "\n",
    "Some examples of methods."
   ]
  },
  {
   "cell_type": "code",
   "execution_count": 19,
   "id": "834f81d1-6556-4e6a-b60b-15c542d1fdc9",
   "metadata": {
    "tags": []
   },
   "outputs": [
    {
     "name": "stdout",
     "output_type": "stream",
     "text": [
      "[[1 1 2]\n",
      " [3 5 8]]\n"
     ]
    },
    {
     "data": {
      "text/plain": [
       "array([1, 1, 2])"
      ]
     },
     "execution_count": 19,
     "metadata": {},
     "output_type": "execute_result"
    }
   ],
   "source": [
    "# the min method returns the minimum value in the array along a specified axis\n",
    "print(a)\n",
    "a.min(axis=0)"
   ]
  },
  {
   "cell_type": "code",
   "execution_count": 22,
   "id": "3e5c51b1-319c-4395-a10b-e0f2ea961db7",
   "metadata": {
    "tags": []
   },
   "outputs": [],
   "source": [
    "# Rub min method without axis (is an optional method)"
   ]
  },
  {
   "cell_type": "code",
   "execution_count": 21,
   "id": "74af4e7a-b865-4855-81a2-25ac4155c6bc",
   "metadata": {
    "tags": []
   },
   "outputs": [
    {
     "data": {
      "text/plain": [
       "1"
      ]
     },
     "execution_count": 21,
     "metadata": {},
     "output_type": "execute_result"
    }
   ],
   "source": [
    "a.min()"
   ]
  },
  {
   "cell_type": "markdown",
   "id": "7141c927-f196-46f2-b96a-198bb721a572",
   "metadata": {},
   "source": [
    "Remember that methods are **functions** associated with an objecy. We can confirm this!"
   ]
  },
  {
   "cell_type": "code",
   "execution_count": 23,
   "id": "cc1de43a-ff6f-442f-a685-03565510eb31",
   "metadata": {
    "tags": []
   },
   "outputs": [
    {
     "data": {
      "text/plain": [
       "[[1, 1, 2], [3, 5, 8]]"
      ]
     },
     "execution_count": 23,
     "metadata": {},
     "output_type": "execute_result"
    }
   ],
   "source": [
    "# method tolist() transforms array into a list\n",
    "a.tolist()"
   ]
  },
  {
   "cell_type": "code",
   "execution_count": 24,
   "id": "3788bb39-940d-42c5-9d16-d60fafe0a9f5",
   "metadata": {
    "tags": []
   },
   "outputs": [
    {
     "data": {
      "text/plain": [
       "builtin_function_or_method"
      ]
     },
     "execution_count": 24,
     "metadata": {},
     "output_type": "execute_result"
    }
   ],
   "source": [
    "type(a.tolist)"
   ]
  },
  {
   "cell_type": "code",
   "execution_count": 25,
   "id": "e99b185d-c837-49f8-9c19-a41221eae5c7",
   "metadata": {
    "tags": []
   },
   "outputs": [
    {
     "data": {
      "text/plain": [
       "\u001b[0;31mDocstring:\u001b[0m\n",
       "print(value, ..., sep=' ', end='\\n', file=sys.stdout, flush=False)\n",
       "\n",
       "Prints the values to a stream, or to sys.stdout by default.\n",
       "Optional keyword arguments:\n",
       "file:  a file-like object (stream); defaults to the current sys.stdout.\n",
       "sep:   string inserted between values, default a space.\n",
       "end:   string appended after the last value, default a newline.\n",
       "flush: whether to forcibly flush the stream.\n",
       "\u001b[0;31mType:\u001b[0m      builtin_function_or_method\n"
      ]
     },
     "metadata": {},
     "output_type": "display_data"
    }
   ],
   "source": [
    "?print"
   ]
  },
  {
   "cell_type": "code",
   "execution_count": 29,
   "id": "d1ed190b-bc99-423f-a492-8f0b3412283f",
   "metadata": {
    "tags": []
   },
   "outputs": [],
   "source": [
    "# sep is an optional argument\n",
    "\n",
    "num = 77 \n",
    "string_99 = \"99\""
   ]
  },
  {
   "cell_type": "code",
   "execution_count": 30,
   "id": "0f62e8c2-b061-4a6f-af25-cc38b2f0b750",
   "metadata": {
    "tags": []
   },
   "outputs": [
    {
     "name": "stdout",
     "output_type": "stream",
     "text": [
      "77%99%77\n"
     ]
    }
   ],
   "source": [
    "print(num, string_99, num, sep = '%')"
   ]
  },
  {
   "cell_type": "code",
   "execution_count": null,
   "id": "80befcd3-f771-4375-880b-d46cef9356a8",
   "metadata": {},
   "outputs": [],
   "source": []
  }
 ],
 "metadata": {
  "kernelspec": {
   "display_name": "Anaconda 3 (Base)",
   "language": "python",
   "name": "base"
  },
  "language_info": {
   "codemirror_mode": {
    "name": "ipython",
    "version": 3
   },
   "file_extension": ".py",
   "mimetype": "text/x-python",
   "name": "python",
   "nbconvert_exporter": "python",
   "pygments_lexer": "ipython3",
   "version": "3.9.13"
  }
 },
 "nbformat": 4,
 "nbformat_minor": 5
}
